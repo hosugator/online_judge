{
 "cells": [
  {
   "cell_type": "code",
   "execution_count": 12,
   "id": "d58a2abd",
   "metadata": {},
   "outputs": [
    {
     "name": "stdout",
     "output_type": "stream",
     "text": [
      "1\n"
     ]
    }
   ],
   "source": [
    "\"\"\"\n",
    "문제\n",
    "알파벳 소문자로만 이루어진 단어가 주어진다. 이때, 이 단어가 팰린드롬인지 아닌지 확인하는 프로그램을 작성하시오.\n",
    "\n",
    "팰린드롬이란 앞으로 읽을 때와 거꾸로 읽을 때 똑같은 단어를 말한다. \n",
    "\n",
    "level, noon은 팰린드롬이고, baekjoon, online, judge는 팰린드롬이 아니다.\n",
    "\n",
    "입력\n",
    "첫째 줄에 단어가 주어진다. 단어의 길이는 1보다 크거나 같고, 100보다 작거나 같으며, 알파벳 소문자로만 이루어져 있다.\n",
    "\n",
    "출력\n",
    "첫째 줄에 팰린드롬이면 1, 아니면 0을 출력한다.\n",
    "\"\"\"\n",
    "\n",
    "word = input()\n",
    "list_word = list(word)\n",
    "list_reverse_word = []\n",
    "for i in range(len(word)-1, -1, -1):\n",
    "    list_reverse_word.append(list_word[i])\n",
    "\n",
    "reverse_word = \"\".join(list_reverse_word)\n",
    "reverse_word\n",
    "\n",
    "if word == reverse_word:\n",
    "    print(1)\n",
    "else:\n",
    "    print(0)"
   ]
  },
  {
   "cell_type": "code",
   "execution_count": 9,
   "id": "43590a43",
   "metadata": {},
   "outputs": [
    {
     "name": "stdout",
     "output_type": "stream",
     "text": [
      "W\n"
     ]
    }
   ],
   "source": [
    "# 문제\n",
    "# 알파벳 대소문자로 된 단어가 주어지면, 이 단어에서 가장 많이 사용된 알파벳이 무엇인지 알아내는 프로그램을 작성하시오. 단, 대문자와 소문자를 구분하지 않는다.\n",
    "\n",
    "# 입력\n",
    "# 첫째 줄에 알파벳 대소문자로 이루어진 단어가 주어진다. 주어지는 단어의 길이는 1,000,000을 넘지 않는다.\n",
    "\n",
    "# 출력\n",
    "# 첫째 줄에 이 단어에서 가장 많이 사용된 알파벳을 대문자로 출력한다. 단, 가장 많이 사용된 알파벳이 여러 개 존재하는 경우에는 ?를 출력한다.\n",
    "\n",
    "# word = input()\n",
    "\n",
    "# word = word.lower()\n",
    "\n",
    "# alphabet_word = set(word)\n",
    "\n",
    "# for char in alphabet_word:\n",
    "#     count = 0\n",
    "#     for i in word:\n",
    "#         if char == i:\n",
    "#             count += 1\n",
    "#     char_count = count\n",
    "# return max(char_count)\n",
    "\n",
    "word = input().lower()\n",
    "\n",
    "dict = {}\n",
    "\n",
    "for char in word:\n",
    "    if char in dict:\n",
    "        dict[char] += 1\n",
    "    else:\n",
    "        dict[char] = 1\n",
    "\n",
    "max_count = max(dict.values())\n",
    "\n",
    "max_chars = []\n",
    "\n",
    "for k, v in dict.items():\n",
    "    if v == max_count:\n",
    "        max_chars.append(k)\n",
    "\n",
    "if len(max_chars) == 1:\n",
    "    print(max_chars[0].upper())\n",
    "else:\n",
    "    print(\"?\")"
   ]
  },
  {
   "cell_type": "code",
   "execution_count": 15,
   "id": "163ce220",
   "metadata": {},
   "outputs": [
    {
     "name": "stdout",
     "output_type": "stream",
     "text": [
      "6\n"
     ]
    }
   ],
   "source": [
    "# 문제\n",
    "# 예전에는 운영체제에서 크로아티아 알파벳을 입력할 수가 없었다. 따라서, 다음과 같이 크로아티아 알파벳을 변경해서 입력했다.\n",
    "\n",
    "# 크로아티아 알파벳\t변경\n",
    "# č\tc=\n",
    "# ć\tc-\n",
    "# dž\tdz=\n",
    "# đ\td-\n",
    "# lj\tlj\n",
    "# nj\tnj\n",
    "# š\ts=\n",
    "# ž\tz=\n",
    "# 예를 들어, ljes=njak은 크로아티아 알파벳 6개(lj, e, š, nj, a, k)로 이루어져 있다. 단어가 주어졌을 때, 몇 개의 크로아티아 알파벳으로 이루어져 있는지 출력한다.\n",
    "\n",
    "# dž는 무조건 하나의 알파벳으로 쓰이고, d와 ž가 분리된 것으로 보지 않는다. lj와 nj도 마찬가지이다. 위 목록에 없는 알파벳은 한 글자씩 센다.\n",
    "\n",
    "# 입력\n",
    "# 첫째 줄에 최대 100글자의 단어가 주어진다. 알파벳 소문자와 '-', '='로만 이루어져 있다.\n",
    "\n",
    "# 단어는 크로아티아 알파벳으로 이루어져 있다. 문제 설명의 표에 나와있는 알파벳은 변경된 형태로 입력된다.\n",
    "\n",
    "# 출력\n",
    "# 입력으로 주어진 단어가 몇 개의 크로아티아 알파벳으로 이루어져 있는지 출력한다.\n",
    "\n",
    "# word = input()\n",
    "\n",
    "# c_alphabet = {\n",
    "#     \"c=\": 0,\n",
    "#     \"c-\": 0,\n",
    "#     \"dz=\": 0,\n",
    "#     \"d-\": 0,\n",
    "#     \"lj\": 0,\n",
    "#     \"nj\": 0,\n",
    "#     \"s=\": 0,\n",
    "#     \"z=\": 0,\n",
    "# }\n",
    "\n",
    "# sum = 0\n",
    "\n",
    "# for k, v in c_alphabet.items():\n",
    "#     if k in word:\n",
    "#         c_alphabet[k] += 1\n",
    "#         word = word.replace(k, \"_\")\n",
    "#     sum += c_alphabet[k]\n",
    "# sum += len(word.replace(\"_\", \"\"))\n",
    "\n",
    "# print(sum)\n",
    "\n",
    "word = input()\n",
    "\n",
    "c_alphabet = [\n",
    "    \"c=\",\n",
    "    \"c-\",\n",
    "    \"dz=\",\n",
    "    \"d-\",\n",
    "    \"lj\",\n",
    "    \"nj\",\n",
    "    \"s=\",\n",
    "    \"z=\",\n",
    "    ]\n",
    "\n",
    "for i in c_alphabet:\n",
    "    word = word.replace(i, \" \")\n",
    "\n",
    "print(len(word))"
   ]
  },
  {
   "cell_type": "code",
   "execution_count": null,
   "id": "5abf9209",
   "metadata": {},
   "outputs": [
    {
     "ename": "IndexError",
     "evalue": "string index out of range",
     "output_type": "error",
     "traceback": [
      "\u001b[31m---------------------------------------------------------------------------\u001b[39m",
      "\u001b[31mIndexError\u001b[39m                                Traceback (most recent call last)",
      "\u001b[36mCell\u001b[39m\u001b[36m \u001b[39m\u001b[32mIn[5]\u001b[39m\u001b[32m, line 20\u001b[39m\n\u001b[32m     18\u001b[39m char_list = []\n\u001b[32m     19\u001b[39m \u001b[38;5;28;01mfor\u001b[39;00m j \u001b[38;5;129;01min\u001b[39;00m \u001b[38;5;28mrange\u001b[39m(\u001b[38;5;28mlen\u001b[39m(word)):\n\u001b[32m---> \u001b[39m\u001b[32m20\u001b[39m     \u001b[38;5;28;01mif\u001b[39;00m word[j] != \u001b[43mword\u001b[49m\u001b[43m[\u001b[49m\u001b[43mj\u001b[49m\u001b[43m+\u001b[49m\u001b[32;43m1\u001b[39;49m\u001b[43m]\u001b[49m:\n\u001b[32m     21\u001b[39m         char_list.append(word[j])\n\u001b[32m     22\u001b[39m \u001b[38;5;28;01mif\u001b[39;00m \u001b[38;5;28mlen\u001b[39m(char_list) == \u001b[38;5;28mlen\u001b[39m(\u001b[38;5;28mset\u001b[39m(char_list)):\n",
      "\u001b[31mIndexError\u001b[39m: string index out of range"
     ]
    }
   ],
   "source": [
    "# 문제\n",
    "# 그룹 단어란 단어에 존재하는 모든 문자에 대해서, 각 문자가 연속해서 나타나는 경우만을 말한다. 예를 들면, ccazzzzbb는 c, a, z, b가 모두 연속해서 나타나고, kin도 k, i, n이 연속해서 나타나기 때문에 그룹 단어이지만, aabbbccb는 b가 떨어져서 나타나기 때문에 그룹 단어가 아니다.\n",
    "\n",
    "# 단어 N개를 입력으로 받아 그룹 단어의 개수를 출력하는 프로그램을 작성하시오.\n",
    "\n",
    "# 입력\n",
    "# 첫째 줄에 단어의 개수 N이 들어온다. N은 100보다 작거나 같은 자연수이다. 둘째 줄부터 N개의 줄에 단어가 들어온다. 단어는 알파벳 소문자로만 되어있고 중복되지 않으며, 길이는 최대 100이다.\n",
    "\n",
    "# 출력\n",
    "# 첫째 줄에 그룹 단어의 개수를 출력한다.\n",
    "\n",
    "num = int(input())\n",
    "word_list = []\n",
    "count = 0\n",
    "\n",
    "for i in range(num):\n",
    "    word = input()\n",
    "    char_list = []\n",
    "    for j in range(len(word)):\n",
    "        if j == 0:\n",
    "            char_list.append(word[j])\n",
    "        elif word[j-1] != word[j]:\n",
    "            char_list.append(word[j])\n",
    "    if len(char_list) == len(set(char_list)):\n",
    "        count += 1\n",
    "        word_list.append(word)\n",
    "\n",
    "print(count)\n",
    "print(word_list)"
   ]
  }
 ],
 "metadata": {
  "kernelspec": {
   "display_name": "Python 3",
   "language": "python",
   "name": "python3"
  },
  "language_info": {
   "codemirror_mode": {
    "name": "ipython",
    "version": 3
   },
   "file_extension": ".py",
   "mimetype": "text/x-python",
   "name": "python",
   "nbconvert_exporter": "python",
   "pygments_lexer": "ipython3",
   "version": "3.11.13"
  }
 },
 "nbformat": 4,
 "nbformat_minor": 5
}
