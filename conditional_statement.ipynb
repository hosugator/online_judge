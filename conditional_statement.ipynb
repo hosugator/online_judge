{
 "cells": [
  {
   "cell_type": "code",
   "execution_count": 4,
   "id": "fd3125f9",
   "metadata": {},
   "outputs": [
    {
     "name": "stdout",
     "output_type": "stream",
     "text": [
      "C\n"
     ]
    }
   ],
   "source": [
    "# 시험 점수를 입력받아 90 ~ 100점은 A, 80 ~ 89점은 B, 70 ~ 79점은 C, 60 ~ 69점은 D, 나머지 점수는 F를 출력하는 프로그램을 작성하시오.\n",
    "\n",
    "my_score = int(input())\n",
    "\n",
    "if my_score >= 90 and my_score <=100:\n",
    "    print(\"A\")\n",
    "elif my_score >= 80:\n",
    "    print(\"B\")\n",
    "elif my_score >= 70:\n",
    "    print(\"C\")\n",
    "elif my_score >= 60:\n",
    "    print(\"D\")\n",
    "else:\n",
    "    print(\"F\")\n"
   ]
  },
  {
   "cell_type": "code",
   "execution_count": null,
   "id": "9ba8939a",
   "metadata": {},
   "outputs": [
    {
     "name": "stdout",
     "output_type": "stream",
     "text": [
      "1\n"
     ]
    }
   ],
   "source": [
    "# 연도가 주어졌을 때, 윤년이면 1, 아니면 0을 출력하는 프로그램을 작성하시오.\n",
    "# 윤년은 연도가 4의 배수이면서, 100의 배수가 아닐 때 또는 400의 배수일 때이다.\n",
    "# 예를 들어, 2012년은 4의 배수이면서 100의 배수가 아니라서 윤년이다. 1900년은 100의 배수이고 400의 배수는 아니기 때문에 윤년이 아니다. 하지만, 2000년은 400의 배수이기 때문에 윤년이다.\n",
    "\n",
    "my_year = int(input())\n",
    "\n",
    "if my_year % 4 == 0 and my_year % 100 != 0 or my_year % 400 ==0:\n",
    "    print(1)\n",
    "else:\n",
    "    print(0)"
   ]
  },
  {
   "cell_type": "code",
   "execution_count": 8,
   "id": "cc0bc497",
   "metadata": {},
   "outputs": [
    {
     "name": "stdout",
     "output_type": "stream",
     "text": [
      "4\n"
     ]
    }
   ],
   "source": [
    "# 좌표 입력 사분면 판단\n",
    "\n",
    "x = int(input())\n",
    "y = int(input())\n",
    "\n",
    "if x > 0:\n",
    "    if y > 0:\n",
    "        print(1)\n",
    "    else:\n",
    "        print(4)\n",
    "else:\n",
    "    if y > 0:\n",
    "        print(2)\n",
    "    else:\n",
    "        print(3)"
   ]
  },
  {
   "cell_type": "code",
   "execution_count": 10,
   "id": "a07962b7",
   "metadata": {},
   "outputs": [
    {
     "name": "stdout",
     "output_type": "stream",
     "text": [
      "4\n"
     ]
    }
   ],
   "source": [
    "# 동일 문제 match-case 사용\n",
    "\n",
    "x = int(input())\n",
    "y = int(input())\n",
    "\n",
    "match (x, y):\n",
    "    case (x,y) if x>0 and y>0:\n",
    "        print(1)\n",
    "    case (x,y) if x>0 and y<0:\n",
    "        print(4)\n",
    "    case (x,y) if x<0 and y>0:\n",
    "        print(2)\n",
    "    case (x,y) if x<0 and y<0:\n",
    "        print(3)"
   ]
  },
  {
   "cell_type": "code",
   "execution_count": 15,
   "id": "a4af4dd7",
   "metadata": {},
   "outputs": [
    {
     "name": "stdout",
     "output_type": "stream",
     "text": [
      "1\n"
     ]
    }
   ],
   "source": [
    "# 첫째 줄에 정수의 개수 N(1 ≤ N ≤ 100)이 주어진다. 둘째 줄에는 정수가 공백으로 구분되어져있다. 셋째 줄에는 찾으려고 하는 정수 v가 주어진다. 입력으로 주어지는 정수와 v는 -100보다 크거나 같으며, 100보다 작거나 같다.\n",
    "\n",
    "N = int(input())\n",
    "nums = list(map(int, input().split()))\n",
    "v = int(input())\n",
    "\n",
    "i = 0\n",
    "count = 0\n",
    "\n",
    "for i in range(N):\n",
    "    if v == nums[i]:\n",
    "        count += 1\n",
    "print(count)"
   ]
  },
  {
   "cell_type": "code",
   "execution_count": 27,
   "id": "4309dcfb",
   "metadata": {},
   "outputs": [
    {
     "name": "stdout",
     "output_type": "stream",
     "text": [
      "1 2 "
     ]
    }
   ],
   "source": [
    "# 첫째 줄에 N과 X가 주어진다. (1 ≤ N, X ≤ 10,000)\n",
    "# 둘째 줄에 수열 A를 이루는 정수 N개가 주어진다. 주어지는 정수는 모두 1보다 크거나 같고, 10,000보다 작거나 같은 정수이다.\n",
    "# 정수 N개로 이루어진 수열 A와 정수 X가 주어진다. 이때, A에서 X보다 작은 수를 모두 출력하는 프로그램을 작성하시오.\n",
    "\n",
    "\n",
    "N, X = map(int, input().split())\n",
    "A = list(map(int, input().split()))\n",
    "\n",
    "for i in range(N):\n",
    "    if A[i] < X:\n",
    "        print(A[i], end=\" \")"
   ]
  },
  {
   "cell_type": "code",
   "execution_count": null,
   "id": "41fb7a9f",
   "metadata": {},
   "outputs": [
    {
     "name": "stdout",
     "output_type": "stream",
     "text": [
      "1 5\n"
     ]
    }
   ],
   "source": [
    "# 첫째 줄에 정수의 개수 N (1 ≤ N ≤ 1,000,000)이 주어진다. 둘째 줄에는 N개의 정수를 공백으로 구분해서 주어진다. 모든 정수는 -1,000,000보다 크거나 같고, 1,000,000보다 작거나 같은 정수이다.\n",
    "# N개의 정수가 주어진다. 이때, 최솟값과 최댓값을 구하는 프로그램을 작성하시오.\n",
    "\n",
    "\n",
    "N = int(input())\n",
    "nums = list(map(int, input().split()))\n",
    "\n",
    "min = nums[0]\n",
    "max = nums[0]\n",
    "\n",
    "for i in range(N):\n",
    "    if min > nums[i]:\n",
    "        min = nums[i]\n",
    "    if max < nums[i]:\n",
    "        max = nums[i]\n",
    "print(min, max)"
   ]
  },
  {
   "cell_type": "code",
   "execution_count": 6,
   "id": "913039bd",
   "metadata": {},
   "outputs": [
    {
     "name": "stdout",
     "output_type": "stream",
     "text": [
      "ae\n",
      "ba\n",
      "cp\n"
     ]
    }
   ],
   "source": [
    "num = int(input())\n",
    "\n",
    "for i in range(num):\n",
    "    word = input()\n",
    "    print(word[0], word[-1], sep=\"\")"
   ]
  },
  {
   "cell_type": "code",
   "execution_count": null,
   "id": "bfcfec45",
   "metadata": {},
   "outputs": [
    {
     "name": "stdout",
     "output_type": "stream",
     "text": [
      "6\n"
     ]
    }
   ],
   "source": [
    "# 첫째 줄에 숫자의 개수 N (1 ≤ N ≤ 100)이 주어진다. 둘째 줄에 숫자 N개가 공백없이 주어진다.\n",
    "\n",
    "n = int(input())\n",
    "\n",
    "nums = input()\n",
    "\n",
    "sum = 0\n",
    "for i in range(n):\n",
    "    sum += int(nums[i])\n",
    "print(sum)"
   ]
  },
  {
   "cell_type": "code",
   "execution_count": 10,
   "id": "e8b6ad48",
   "metadata": {},
   "outputs": [
    {
     "name": "stdout",
     "output_type": "stream",
     "text": [
      "1 0 -1 -1 2 -1 -1 -1 -1 4 3 -1 -1 7 5 -1 -1 -1 -1 -1 -1 -1 -1 -1 -1 -1 "
     ]
    }
   ],
   "source": [
    "# 각각의 알파벳에 대해서, a가 처음 등장하는 위치, b가 처음 등장하는 위치, ... z가 처음 등장하는 위치를 공백으로 구분해서 출력한다.\n",
    "\n",
    "# 만약, 어떤 알파벳이 단어에 포함되어 있지 않다면 -1을 출력한다. 단어의 첫 번째 글자는 0번째 위치이고, 두 번째 글자는 1번째 위치이다.\n",
    "\n",
    "word = input()\n",
    "alphabet = \"abcdefghijklmnopqrstuvwxyz\"\n",
    "\n",
    "for i in alphabet:\n",
    "    for j, char in enumerate(word):\n",
    "        if i == char:\n",
    "            print(j, end=\" \")\n",
    "            break\n",
    "    if i not in word:\n",
    "        print(-1, end=\" \")"
   ]
  },
  {
   "cell_type": "code",
   "execution_count": 12,
   "id": "b516f7e3",
   "metadata": {},
   "outputs": [
    {
     "name": "stdout",
     "output_type": "stream",
     "text": [
      "aaabbbccc\n",
      "aaaabbbb\n"
     ]
    }
   ],
   "source": [
    "# 첫째 줄에 테스트 케이스의 개수 T(1 ≤ T ≤ 1,000)가 주어진다. 각 테스트 케이스는 반복 횟수 R(1 ≤ R ≤ 8), 문자열 S가 공백으로 구분되어 주어진다. S의 길이는 적어도 1이며, 20글자를 넘지 않는다. \n",
    "\n",
    "T = int(input())\n",
    "\n",
    "for i in range(T):\n",
    "    R, S = input().split()\n",
    "    P = \"\"\n",
    "    for char in S:\n",
    "        P += char * int(R)\n",
    "    print(P)"
   ]
  },
  {
   "cell_type": "code",
   "execution_count": 19,
   "id": "9ee2c059",
   "metadata": {},
   "outputs": [
    {
     "name": "stdout",
     "output_type": "stream",
     "text": [
      "0\n"
     ]
    }
   ],
   "source": [
    "# 첫 줄에 영어 대소문자와 공백으로 이루어진 문자열이 주어진다. 이 문자열의 길이는 1,000,000을 넘지 않는다. 단어는 공백 한 개로 구분되며, 공백이 연속해서 나오는 경우는 없다. 또한 문자열은 공백으로 시작하거나 끝날 수 있다.\n",
    "\n",
    "# 첫째 줄에 단어의 개수를 출력한다.\n",
    "\n",
    "sentence = input().strip().split()\n",
    "print(len(sentence))"
   ]
  },
  {
   "cell_type": "code",
   "execution_count": null,
   "id": "2fcbf827",
   "metadata": {},
   "outputs": [
    {
     "name": "stdout",
     "output_type": "stream",
     "text": [
      "432\n"
     ]
    }
   ],
   "source": [
    "\"\"\"\n",
    "문제\n",
    "상근이의 동생 상수는 수학을 정말 못한다. 상수는 숫자를 읽는데 문제가 있다. 이렇게 수학을 못하는 상수를 위해서 상근이는 수의 크기를 비교하는 문제를 내주었다. 상근이는 세 자리 수 두 개를 칠판에 써주었다. 그 다음에 크기가 큰 수를 말해보라고 했다.\n",
    "\n",
    "상수는 수를 다른 사람과 다르게 거꾸로 읽는다. 예를 들어, 734와 893을 칠판에 적었다면, 상수는 이 수를 437과 398로 읽는다. 따라서, 상수는 두 수중 큰 수인 437을 큰 수라고 말할 것이다.\n",
    "\n",
    "두 수가 주어졌을 때, 상수의 대답을 출력하는 프로그램을 작성하시오.\n",
    "\n",
    "입력\n",
    "첫째 줄에 상근이가 칠판에 적은 두 수 A와 B가 주어진다. 두 수는 같지 않은 세 자리 수이며, 0이 포함되어 있지 않다.\n",
    "\n",
    "출력\n",
    "첫째 줄에 상수의 대답을 출력한다.\n",
    "\"\"\"\n",
    "\n",
    "# A, B = input().split()\n",
    "# A_flip = A\n",
    "# B_flip = B\n",
    "# for i in A:\n",
    "#      = A[-(i + 1)]\n",
    "\n",
    "# for i in range(B):\n",
    "#     B_flip[i] = B[-(i + 1)]\n",
    "\n",
    "# A_flip = int(A_flip)\n",
    "# B_flip = int(B_flip)\n",
    "# if A_flip > B_flip:\n",
    "#     print(A_flip)\n",
    "# else:\n",
    "#     print(B_flip)\n",
    "\n",
    "A, B = input().split()\n",
    "A_reverse = int(A[::-1])\n",
    "B_reverse = int(B[::-1])\n",
    "if A_reverse>B_reverse:\n",
    "    print(A_reverse)\n",
    "else:\n",
    "    print(B_reverse)"
   ]
  },
  {
   "cell_type": "code",
   "execution_count": 47,
   "id": "b3ea0b79",
   "metadata": {},
   "outputs": [
    {
     "name": "stdout",
     "output_type": "stream",
     "text": [
      "36\n"
     ]
    }
   ],
   "source": [
    "# 문제\n",
    "# 상근이의 할머니는 아래 그림과 같이 오래된 다이얼 전화기를 사용한다.\n",
    "# 전화를 걸고 싶은 번호가 있다면, 숫자를 하나를 누른 다음에 금속 핀이 있는 곳 까지 시계방향으로 돌려야 한다. 숫자를 하나 누르면 다이얼이 처음 위치로 돌아가고, 다음 숫자를 누르려면 다이얼을 처음 위치에서 다시 돌려야 한다.\n",
    "# 숫자 1을 걸려면 총 2초가 필요하다. 1보다 큰 수를 거는데 걸리는 시간은 이보다 더 걸리며, 한 칸 옆에 있는 숫자를 걸기 위해선 1초씩 더 걸린다.\n",
    "# 상근이의 할머니는 전화 번호를 각 숫자에 해당하는 문자로 외운다. 즉, 어떤 단어를 걸 때, 각 알파벳에 해당하는 숫자를 걸면 된다. 예를 들어, UNUCIC는 868242와 같다.\n",
    "# 할머니가 외운 단어가 주어졌을 때, 이 전화를 걸기 위해서 필요한 최소 시간을 구하는 프로그램을 작성하시오.\n",
    "\n",
    "# 입력\n",
    "# 첫째 줄에 알파벳 대문자로 이루어진 단어가 주어진다. 단어의 길이는 2보다 크거나 같고, 15보다 작거나 같다.\n",
    "\n",
    "# 출력\n",
    "# 첫째 줄에 다이얼을 걸기 위해서 필요한 최소 시간을 출력한다.\n",
    "\n",
    "# word = input()\n",
    "\n",
    "# alphabet = \"ABCDEFGHIJKLMNOPQRSTUVWXYZ\"\n",
    "\n",
    "# for i in range(len(alphabet)//3):\n",
    "#     num_i = alphabet[3*i:3*(i+1)]\n",
    "\n",
    "# print(num_i)\n",
    "\n",
    "# lowercase_alphabet = string.ascii_lowercase\n",
    "\n",
    "import string\n",
    "\n",
    "alphabet = string.ascii_uppercase\n",
    "\n",
    "# alphabet_split = [alphabet[i:i+3] for i in range(0, len(alphabet), 3)]\n",
    "\n",
    "# print(alphabet_split)\n",
    "\n",
    "import string\n",
    "\n",
    "alphabet = string.ascii_uppercase\n",
    "\n",
    "word = input()\n",
    "time = 0\n",
    "step = 3\n",
    "for char in word:\n",
    "    for i in range(0, 15, 3):\n",
    "        if char in alphabet[i:i+step]:\n",
    "            time = time + 3 + i//3\n",
    "    if char in alphabet[15:19]:\n",
    "        time = time + 3 + 5\n",
    "    elif char in alphabet[19:22]:\n",
    "        time = time + 9\n",
    "    elif char in alphabet[22:]:\n",
    "        time = time + 10\n",
    "print(time)"
   ]
  },
  {
   "cell_type": "code",
   "execution_count": null,
   "id": "06638128",
   "metadata": {},
   "outputs": [
    {
     "name": "stdout",
     "output_type": "stream",
     "text": [
      "1\n",
      "2\n",
      "3\n",
      "4\n",
      "5\n",
      "6\n",
      "7\n",
      "8\n",
      "exit\n"
     ]
    }
   ],
   "source": [
    "\"\"\"\n",
    "문제\n",
    "입력 받은 대로 출력하는 프로그램을 작성하시오.\n",
    "\n",
    "입력\n",
    "입력이 주어진다. 입력은 최대 100줄로 이루어져 있고, 알파벳 소문자, 대문자, 공백, 숫자로만 이루어져 있다. 각 줄은 100글자를 넘지 않으며, 빈 줄은 주어지지 않는다. 또, 각 줄은 공백으로 시작하지 않고, 공백으로 끝나지 않는다.\n",
    "\n",
    "출력\n",
    "입력받은 그대로 출력한다.\n",
    "\n",
    "\"\"\"\n",
    "\n",
    "\n",
    "while(True):\n",
    "    try:\n",
    "        sentence = input()\n",
    "        print(sentence)\n",
    "    except:\n",
    "        break"
   ]
  },
  {
   "cell_type": "code",
   "execution_count": 57,
   "id": "3cd45702",
   "metadata": {},
   "outputs": [
    {
     "name": "stdout",
     "output_type": "stream",
     "text": [
      "65\n"
     ]
    }
   ],
   "source": [
    "word = ord(input())\n",
    "print(word)"
   ]
  },
  {
   "cell_type": "code",
   "execution_count": 58,
   "id": "a1e24b12",
   "metadata": {},
   "outputs": [
    {
     "name": "stdout",
     "output_type": "stream",
     "text": [
      "         ,r'\"7\n",
      "r`-_   ,'  ,/\n",
      " \\. \". L_r'\n",
      "   `~\\/\n",
      "      |\n",
      "      |\n"
     ]
    }
   ],
   "source": [
    "\"\"\"\n",
    "         ,r'\"7\n",
    "r`-_   ,'  ,/\n",
    " \\. \". L_r'\n",
    "   `~\\/\n",
    "      |\n",
    "      |\n",
    "\"\"\"\n",
    "\n",
    "print(\"         ,r'\\\"7\")\n",
    "print(\"r`-_   ,'  ,/\")\n",
    "print(\" \\. \\\". L_r'\")\n",
    "print(\"   `~\\/\")\n",
    "print(\"      |\")\n",
    "print(\"      |\")"
   ]
  },
  {
   "cell_type": "code",
   "execution_count": 1,
   "id": "118d897b",
   "metadata": {},
   "outputs": [
    {
     "name": "stdout",
     "output_type": "stream",
     "text": [
      "0 0 1 1 1 7 "
     ]
    }
   ],
   "source": [
    "\"\"\"\n",
    "문제\n",
    "동혁이는 오래된 창고를 뒤지다가 낡은 체스판과 피스를 발견했다.\n",
    "\n",
    "체스판의 먼지를 털어내고 걸레로 닦으니 그럭저럭 쓸만한 체스판이 되었다. 하지만, 검정색 피스는 모두 있었으나, 흰색 피스는 개수가 올바르지 않았다.\n",
    "\n",
    "체스는 총 16개의 피스를 사용하며, 킹 1개, 퀸 1개, 룩 2개, 비숍 2개, 나이트 2개, 폰 8개로 구성되어 있다.\n",
    "\n",
    "동혁이가 발견한 흰색 피스의 개수가 주어졌을 때, 몇 개를 더하거나 빼야 올바른 세트가 되는지 구하는 프로그램을 작성하시오.\n",
    "\n",
    "입력\n",
    "첫째 줄에 동혁이가 찾은 흰색 킹, 퀸, 룩, 비숍, 나이트, 폰의 개수가 주어진다. 이 값은 0보다 크거나 같고 10보다 작거나 같은 정수이다.\n",
    "\n",
    "출력\n",
    "첫째 줄에 입력에서 주어진 순서대로 몇 개의 피스를 더하거나 빼야 되는지를 출력한다. 만약 수가 양수라면 동혁이는 그 개수 만큼 피스를 더해야 하는 것이고, 음수라면 제거해야 하는 것이다.\n",
    "\n",
    "\"\"\"\n",
    "\n",
    "chess_nums = list(map(int, input().split()))\n",
    "\n",
    "answer = [1, 1, 2, 2, 2, 8]\n",
    "\n",
    "for i in range(len(answer)):\n",
    "    fix = answer[i] - int(chess_nums[i])\n",
    "    print(fix, end=\" \")"
   ]
  },
  {
   "cell_type": "code",
   "execution_count": 18,
   "id": "9a5a68ac",
   "metadata": {},
   "outputs": [
    {
     "name": "stdout",
     "output_type": "stream",
     "text": [
      "    *\n",
      "   ***\n",
      "  *****\n",
      " *******\n",
      "*********\n"
     ]
    }
   ],
   "source": [
    "\"\"\"\n",
    "입력\n",
    "첫째 줄에 N(1 ≤ N ≤ 100)이 주어진다.\n",
    "\n",
    "출력\n",
    "첫째 줄부터 2×N-1번째 줄까지 차례대로 별을 출력한다.\n",
    "\"\"\"\n",
    "\n",
    "# n = int(input())\n",
    "# star_len = n * 2 - 1\n",
    "# vacant = \" \" * star_len\n",
    "# star = \"*\" * star_len\n",
    "\n",
    "# for i in range(n):\n",
    "#     line = vacant[0 : (n - i - 1)] + star[(n - i - 1) : n + i] + vacant[n + i :]\n",
    "#     print(line)\n",
    "\n",
    "# for i in range(n - 1):\n",
    "#     line = (\n",
    "#         vacant[0 : i + 1] + star[i + 1 : star_len - i - 1] + vacant[star_len - i - 1 :]\n",
    "#     )\n",
    "#     print(line)\n",
    "\n",
    "n = int(input())\n",
    "for i in range(n):\n",
    "    \n",
    "    print(\" \"*(n-i-1), end=\"\")\n",
    "    print(\"*\"*(2*i+1))\n",
    "\n",
    "for i in range(1, n, -1):\n",
    "    print(\" \"*(n-i-1), end=\"\")\n",
    "    print(\"*\"*(2*i+1))\n",
    "\n",
    "\n",
    "# a = [1, 2, 3]\n",
    "\n",
    "# for i in a:\n",
    "#     print(i, end=\"\")"
   ]
  }
 ],
 "metadata": {
  "kernelspec": {
   "display_name": "base",
   "language": "python",
   "name": "python3"
  },
  "language_info": {
   "codemirror_mode": {
    "name": "ipython",
    "version": 3
   },
   "file_extension": ".py",
   "mimetype": "text/x-python",
   "name": "python",
   "nbconvert_exporter": "python",
   "pygments_lexer": "ipython3",
   "version": "3.13.5"
  }
 },
 "nbformat": 4,
 "nbformat_minor": 5
}
